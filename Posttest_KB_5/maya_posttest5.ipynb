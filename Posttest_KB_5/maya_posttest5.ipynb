{
 "cells": [
  {
   "cell_type": "code",
   "execution_count": 2,
   "id": "987470f0-1603-4493-a671-1c4191a8065e",
   "metadata": {},
   "outputs": [],
   "source": [
    "import pandas as pd\n",
    "import numpy as np\n",
    "from sklearn.model_selection import train_test_split\n",
    "from sklearn.svm import SVC\n",
    "from sklearn.linear_model import LinearRegression\n",
    "from sklearn.metrics import classification_report, confusion_matrix, mean_absolute_error, mean_squared_error, r2_score\n",
    "import matplotlib.pyplot as plt"
   ]
  },
  {
   "cell_type": "code",
   "execution_count": 3,
   "id": "51e96f5a-40da-4077-aacc-cb889e56a13b",
   "metadata": {},
   "outputs": [],
   "source": [
    "# Import dataset\n",
    "data = pd.read_csv('diamonds.csv')"
   ]
  },
  {
   "cell_type": "markdown",
   "id": "0190c415-c08f-4c4b-a5f4-c87d6bdafcc1",
   "metadata": {},
   "source": [
    "# A. Supervised Learning"
   ]
  },
  {
   "cell_type": "markdown",
   "id": "e307270f-2379-4c7a-96a0-dfa1f2dfe5bb",
   "metadata": {},
   "source": [
    "## Preprocessing Data"
   ]
  },
  {
   "cell_type": "markdown",
   "id": "462ee005-0cec-4f13-a9b0-7031886df6a9",
   "metadata": {},
   "source": [
    "Lakukan preprocessing data, seperti mengubah label kategorikal menjadi numerik"
   ]
  },
  {
   "cell_type": "markdown",
   "id": "6aa321fe-df31-42d7-abf1-ad56a068442d",
   "metadata": {},
   "source": [
    "### Klasifikasi (Support Vector Classifier - SVC)"
   ]
  },
  {
   "cell_type": "code",
   "execution_count": 4,
   "id": "a1d016fe-402d-4782-928f-d4472cbbf18e",
   "metadata": {},
   "outputs": [],
   "source": [
    "# Preprocessing data kategorikal\n",
    "data = pd.get_dummies(data, columns=['cut', 'color', 'clarity'])"
   ]
  },
  {
   "cell_type": "code",
   "execution_count": 5,
   "id": "4dcdd236-a3a1-48f2-9d81-b8d226732cad",
   "metadata": {},
   "outputs": [],
   "source": [
    "# Pisahkan fitur (X) dan label (y)\n",
    "X = data.drop('price', axis=1)\n",
    "y = data['price']"
   ]
  },
  {
   "cell_type": "code",
   "execution_count": 6,
   "id": "65f38e69-bbb2-4d3f-b6f1-fa72cc631304",
   "metadata": {},
   "outputs": [],
   "source": [
    "# Bagi data menjadi data latih dan data uji\n",
    "X_train, X_test, y_train, y_test = train_test_split(X, y, test_size=0.2, random_state=42)"
   ]
  },
  {
   "cell_type": "code",
   "execution_count": null,
   "id": "797f272e-67ac-4cb8-9169-b44713d3b9ea",
   "metadata": {},
   "outputs": [],
   "source": [
    "# Inisialisasi dan melatih model SVC\n",
    "svc = SVC()\n",
    "svc.fit(X_train, y_train)"
   ]
  },
  {
   "cell_type": "code",
   "execution_count": null,
   "id": "cf6157b6-f349-4134-a8d3-557d99e282cb",
   "metadata": {},
   "outputs": [],
   "source": [
    "# Melakukan prediksi\n",
    "y_pred = svc.predict(X_test)"
   ]
  },
  {
   "cell_type": "code",
   "execution_count": null,
   "id": "6cfceec4-86be-4bd2-84c0-d1b5659b4965",
   "metadata": {},
   "outputs": [],
   "source": [
    "# Evaluasi model\n",
    "confusion = confusion_matrix(y_test, y_pred)\n",
    "classification = classification_report(y_test, y_pred)"
   ]
  },
  {
   "cell_type": "code",
   "execution_count": null,
   "id": "795dd9e8-be48-478d-9ddf-d032c19b2bcd",
   "metadata": {},
   "outputs": [],
   "source": [
    "print(\"Confusion Matrix:\\n\", confusion)\n",
    "print(\"\\nClassification Report:\\n\", classification)"
   ]
  },
  {
   "cell_type": "markdown",
   "id": "c4f43025-b685-44e9-9f19-fb899b777c3a",
   "metadata": {},
   "source": [
    "### Regresi (Linear Regression)"
   ]
  },
  {
   "cell_type": "code",
   "execution_count": null,
   "id": "a29dac7c-f764-4a8d-815b-425fb71321eb",
   "metadata": {},
   "outputs": [],
   "source": [
    "# Pisahkan fitur (X) dan label (y)\n",
    "X = data[['carat', 'depth', 'table', 'x', 'y', 'z']]\n",
    "y = data['price']"
   ]
  },
  {
   "cell_type": "code",
   "execution_count": null,
   "id": "a4797ff8-7571-4fba-96fe-27b95f1bcb00",
   "metadata": {},
   "outputs": [],
   "source": [
    "# Bagi data menjadi data latih dan data uji\n",
    "X_train, X_test, y_train, y_test = train_test_split(X, y, test_size=0.2, random_state=42)"
   ]
  },
  {
   "cell_type": "code",
   "execution_count": null,
   "id": "8c462d91-13bd-43e6-b9c9-d1841c72b773",
   "metadata": {},
   "outputs": [],
   "source": [
    "# Inisialisasi dan melatih model Linear Regression\n",
    "regressor = LinearRegression()\n",
    "regressor.fit(X_train, y_train)"
   ]
  },
  {
   "cell_type": "code",
   "execution_count": null,
   "id": "59803bdb-05f6-41a3-9088-75fc41cbe160",
   "metadata": {},
   "outputs": [],
   "source": [
    "# Melakukan prediksi\n",
    "y_pred = regressor.predict(X_test)"
   ]
  },
  {
   "cell_type": "code",
   "execution_count": null,
   "id": "9756a3f5-ac89-4547-b235-14d8cf965233",
   "metadata": {},
   "outputs": [],
   "source": [
    "# Evaluasi model\n",
    "mae = mean_absolute_error(y_test, y_pred)\n",
    "mse = mean_squared_error(y_test, y_pred)\n",
    "rmse = np.sqrt(mse)\n",
    "r2 = r2_score(y_test, y_pred)"
   ]
  },
  {
   "cell_type": "code",
   "execution_count": null,
   "id": "13632c1b-f77d-46aa-a878-7bd0e75a5eb8",
   "metadata": {},
   "outputs": [],
   "source": [
    "print(\"Mean Absolute Error:\", mae)\n",
    "print(\"Mean Squared Error:\", mse)\n",
    "print(\"Root Mean Squared Error:\", rmse)\n",
    "print(\"R-squared Score:\", r2)"
   ]
  },
  {
   "cell_type": "markdown",
   "id": "f3f28b3c-6707-4e05-a658-3bd2ee2e2850",
   "metadata": {},
   "source": [
    "## Plot Hasil Prediksi"
   ]
  },
  {
   "cell_type": "code",
   "execution_count": null,
   "id": "75630f29-bd47-4d5b-bec7-766c0e58244a",
   "metadata": {},
   "outputs": [],
   "source": [
    "#menggunakan matplotlib\n",
    "plt.scatter(y_test, y_pred)\n",
    "plt.xlabel(\"Harga Asli\")\n",
    "plt.ylabel(\"Harga Prediksi\")\n",
    "plt.title(\"Plot Prediksi Harga\")\n",
    "plt.show()"
   ]
  },
  {
   "cell_type": "markdown",
   "id": "9952d1f8-bb40-422b-81bb-7ff7cdbffec2",
   "metadata": {},
   "source": [
    "# B. Unsupervised Learning\r\n",
    "\r\n"
   ]
  },
  {
   "cell_type": "code",
   "execution_count": null,
   "id": "ce8a9046-2d43-4287-b6f3-19c758f8b4ae",
   "metadata": {},
   "outputs": [],
   "source": [
    "#mengimpor library yang diperlukan dan mengambil data dari dataset\n",
    "from sklearn.cluster import KMeans\n",
    "from sklearn.metrics import silhouette_score, calinski_harabasz_score, davies_bouldin_score"
   ]
  },
  {
   "cell_type": "markdown",
   "id": "5077a60e-3ad8-4ef2-aa48-cd7a20217c26",
   "metadata": {},
   "source": [
    "### Melakukan K-Means Clustering"
   ]
  },
  {
   "cell_type": "code",
   "execution_count": null,
   "id": "f1eecd58-fd35-45bb-b8e9-627325fdce7f",
   "metadata": {},
   "outputs": [],
   "source": [
    "# Inisialisasi model K-Means\n",
    "kmeans = KMeans(n_clusters=5)  # Ganti jumlah cluster sesuai dengan kebutuhan\n",
    "\n",
    "# Fit model K-Means\n",
    "kmeans.fit(data)"
   ]
  },
  {
   "cell_type": "code",
   "execution_count": null,
   "id": "4720e0a6-758b-4ca8-b439-a2ebec746514",
   "metadata": {},
   "outputs": [],
   "source": [
    "# Prediksi cluster\n",
    "labels = kmeans.labels_"
   ]
  },
  {
   "cell_type": "code",
   "execution_count": null,
   "id": "3367451a-7a3b-41b3-8ef9-ee82d2325262",
   "metadata": {},
   "outputs": [],
   "source": [
    "# Evaluasi K-Means tanpa label asli\n",
    "silhouette_avg = silhouette_score(data, labels)\n",
    "calinski_harabasz = calinski_harabasz_score(data, labels)\n",
    "davies_bouldin = davies_bouldin_score(data, labels)"
   ]
  },
  {
   "cell_type": "code",
   "execution_count": null,
   "id": "16a98213-0d79-4434-a1c8-3d6b59b8a53f",
   "metadata": {},
   "outputs": [],
   "source": [
    "print(\"Silhouette Score:\", silhouette_avg)\n",
    "print(\"Calinski-Harabasz Score:\", calinski_harabasz)\n",
    "print(\"Davies-Bouldin Score:\", davies_bouldin)"
   ]
  },
  {
   "cell_type": "code",
   "execution_count": null,
   "id": "d40b4a08-8385-4786-bb41-27095de4ecb6",
   "metadata": {},
   "outputs": [],
   "source": [
    "# Prediksi cluster\n",
    "labels = kmeans.labels_"
   ]
  },
  {
   "cell_type": "code",
   "execution_count": null,
   "id": "afb23d67-a2a2-4acf-b3c6-cfdbce5edf7d",
   "metadata": {},
   "outputs": [],
   "source": [
    "# Evaluasi K-Means dengan label asli\n",
    "from sklearn.metrics import adjusted_rand_score, normalized_mutual_info_score"
   ]
  },
  {
   "cell_type": "code",
   "execution_count": null,
   "id": "f4b9da34-097a-4324-997f-ab340bd0c6c8",
   "metadata": {},
   "outputs": [],
   "source": [
    "# Misalkan \"true_labels\" adalah label asli\n",
    "true_labels = data['true_labels']"
   ]
  },
  {
   "cell_type": "code",
   "execution_count": null,
   "id": "113513d1-d5f5-4e03-af7b-e5c954aa6ff3",
   "metadata": {},
   "outputs": [],
   "source": [
    "ari = adjusted_rand_score(true_labels, labels)\n",
    "nmi = normalized_mutual_info_score(true_labels, labels)"
   ]
  },
  {
   "cell_type": "code",
   "execution_count": null,
   "id": "6ae7b240-93ee-4ed8-9229-e1a145ea73ef",
   "metadata": {},
   "outputs": [],
   "source": [
    "print(\"Adjusted Rand Index (ARI):\", ari)\n",
    "print(\"Normalized Mutual Information (NMI):\", nmi)"
   ]
  },
  {
   "cell_type": "markdown",
   "id": "4e72f1c4-04d3-483b-8b98-86ff8446650d",
   "metadata": {},
   "source": [
    "## Plot Hasil Clustering"
   ]
  },
  {
   "cell_type": "code",
   "execution_count": null,
   "id": "dbe53bab-fca9-4776-8924-2d50330c0c01",
   "metadata": {},
   "outputs": [],
   "source": [
    "# Plot hasil clustering\n",
    "centers = kmeans.cluster_centers_\n",
    "plt.scatter(data['X'], data['Y'], c=labels)\n",
    "plt.scatter(centers[:, 0], centers[:, 1], c='red', marker='x')\n",
    "plt.xlabel(\"Fitur X\")\n",
    "plt.ylabel(\"Fitur Y\")\n",
    "plt.title(\"Hasil Clustering dengan K-Means\")\n",
    "plt.show()"
   ]
  }
 ],
 "metadata": {
  "kernelspec": {
   "display_name": "Python 3 (ipykernel)",
   "language": "python",
   "name": "python3"
  },
  "language_info": {
   "codemirror_mode": {
    "name": "ipython",
    "version": 3
   },
   "file_extension": ".py",
   "mimetype": "text/x-python",
   "name": "python",
   "nbconvert_exporter": "python",
   "pygments_lexer": "ipython3",
   "version": "3.10.7"
  }
 },
 "nbformat": 4,
 "nbformat_minor": 5
}
