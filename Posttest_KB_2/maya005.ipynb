{
 "cells": [
  {
   "cell_type": "code",
   "execution_count": 2,
   "id": "60b2621f",
   "metadata": {},
   "outputs": [],
   "source": [
    "import pandas as pd"
   ]
  },
  {
   "cell_type": "markdown",
   "id": "74554fee",
   "metadata": {},
   "source": [
    "Membaca file.csv ke dalam DataFrame"
   ]
  },
  {
   "cell_type": "code",
   "execution_count": 3,
   "id": "3b8816ac",
   "metadata": {},
   "outputs": [
    {
     "data": {
      "text/html": [
       "<div>\n",
       "<style scoped>\n",
       "    .dataframe tbody tr th:only-of-type {\n",
       "        vertical-align: middle;\n",
       "    }\n",
       "\n",
       "    .dataframe tbody tr th {\n",
       "        vertical-align: top;\n",
       "    }\n",
       "\n",
       "    .dataframe thead th {\n",
       "        text-align: right;\n",
       "    }\n",
       "</style>\n",
       "<table border=\"1\" class=\"dataframe\">\n",
       "  <thead>\n",
       "    <tr style=\"text-align: right;\">\n",
       "      <th></th>\n",
       "      <th>carat</th>\n",
       "      <th>cut</th>\n",
       "      <th>color</th>\n",
       "      <th>clarity</th>\n",
       "      <th>depth</th>\n",
       "      <th>table</th>\n",
       "      <th>price</th>\n",
       "      <th>'x'</th>\n",
       "      <th>'y'</th>\n",
       "      <th>'z'</th>\n",
       "    </tr>\n",
       "  </thead>\n",
       "  <tbody>\n",
       "    <tr>\n",
       "      <th>0</th>\n",
       "      <td>0.23</td>\n",
       "      <td>b'Ideal'</td>\n",
       "      <td>b'E'</td>\n",
       "      <td>b'SI2'</td>\n",
       "      <td>61.5</td>\n",
       "      <td>55.0</td>\n",
       "      <td>326.0</td>\n",
       "      <td>3.95</td>\n",
       "      <td>3.98</td>\n",
       "      <td>2.43</td>\n",
       "    </tr>\n",
       "    <tr>\n",
       "      <th>1</th>\n",
       "      <td>0.21</td>\n",
       "      <td>b'Premium'</td>\n",
       "      <td>b'E'</td>\n",
       "      <td>b'SI1'</td>\n",
       "      <td>59.8</td>\n",
       "      <td>61.0</td>\n",
       "      <td>326.0</td>\n",
       "      <td>3.89</td>\n",
       "      <td>3.84</td>\n",
       "      <td>2.31</td>\n",
       "    </tr>\n",
       "    <tr>\n",
       "      <th>2</th>\n",
       "      <td>0.23</td>\n",
       "      <td>b'Good'</td>\n",
       "      <td>b'E'</td>\n",
       "      <td>b'VS1'</td>\n",
       "      <td>56.9</td>\n",
       "      <td>65.0</td>\n",
       "      <td>327.0</td>\n",
       "      <td>4.05</td>\n",
       "      <td>4.07</td>\n",
       "      <td>2.31</td>\n",
       "    </tr>\n",
       "    <tr>\n",
       "      <th>3</th>\n",
       "      <td>0.29</td>\n",
       "      <td>b'Premium'</td>\n",
       "      <td>b'I'</td>\n",
       "      <td>b'VS2'</td>\n",
       "      <td>62.4</td>\n",
       "      <td>58.0</td>\n",
       "      <td>334.0</td>\n",
       "      <td>4.20</td>\n",
       "      <td>4.23</td>\n",
       "      <td>2.63</td>\n",
       "    </tr>\n",
       "    <tr>\n",
       "      <th>4</th>\n",
       "      <td>0.31</td>\n",
       "      <td>b'Good'</td>\n",
       "      <td>b'J'</td>\n",
       "      <td>b'SI2'</td>\n",
       "      <td>63.3</td>\n",
       "      <td>58.0</td>\n",
       "      <td>335.0</td>\n",
       "      <td>4.34</td>\n",
       "      <td>4.35</td>\n",
       "      <td>2.75</td>\n",
       "    </tr>\n",
       "  </tbody>\n",
       "</table>\n",
       "</div>"
      ],
      "text/plain": [
       "   carat         cut color clarity  depth  table  price   'x'   'y'   'z'\n",
       "0   0.23    b'Ideal'  b'E'  b'SI2'   61.5   55.0  326.0  3.95  3.98  2.43\n",
       "1   0.21  b'Premium'  b'E'  b'SI1'   59.8   61.0  326.0  3.89  3.84  2.31\n",
       "2   0.23     b'Good'  b'E'  b'VS1'   56.9   65.0  327.0  4.05  4.07  2.31\n",
       "3   0.29  b'Premium'  b'I'  b'VS2'   62.4   58.0  334.0  4.20  4.23  2.63\n",
       "4   0.31     b'Good'  b'J'  b'SI2'   63.3   58.0  335.0  4.34  4.35  2.75"
      ]
     },
     "execution_count": 3,
     "metadata": {},
     "output_type": "execute_result"
    }
   ],
   "source": [
    "# Path file CSV dengan backslash ganda\n",
    "file_path = r\"C:\\Users\\ACER-GK\\Documents\\PRAKTIKUM KECERDASAN BUATAN\\Posttest_KB_2\\diamonds.csv\"\n",
    "\n",
    "# Membaca dataset ke dalam DataFrame\n",
    "df = pd.read_csv(file_path)\n",
    "\n",
    "# Menampilkan beberapa baris pertama dari DataFrame\n",
    "df.head()"
   ]
  },
  {
   "cell_type": "markdown",
   "id": "0cb7b48e",
   "metadata": {},
   "source": [
    "Menampilkan Rata-Rata \"price\""
   ]
  },
  {
   "cell_type": "code",
   "execution_count": 4,
   "id": "8ceecbab",
   "metadata": {},
   "outputs": [
    {
     "name": "stdout",
     "output_type": "stream",
     "text": [
      "3932.799721913237\n"
     ]
    }
   ],
   "source": [
    "#Menampilkan rata-rata price\n",
    "mean_price = df['price'].mean()\n",
    "print(mean_price)"
   ]
  },
  {
   "cell_type": "markdown",
   "id": "8a7a6579",
   "metadata": {},
   "source": [
    "Menampilkan rata-rata keseturuhan atribut angka/numerik."
   ]
  },
  {
   "cell_type": "code",
   "execution_count": 5,
   "id": "f401827b",
   "metadata": {},
   "outputs": [
    {
     "name": "stdout",
     "output_type": "stream",
     "text": [
      "carat       0.797940\n",
      "depth      61.749405\n",
      "table      57.457184\n",
      "price    3932.799722\n",
      "'x'         5.731157\n",
      "'y'         5.734526\n",
      "'z'         3.538734\n",
      "dtype: float64\n"
     ]
    }
   ],
   "source": [
    "# Menghitung rata-rata dari seluruh dataset\n",
    "mean_values = df.mean(numeric_only=True)\n",
    "\n",
    "# Menampilkan rata-rata\n",
    "print(mean_values)"
   ]
  },
  {
   "cell_type": "markdown",
   "id": "d7cc6526",
   "metadata": {},
   "source": [
    "Menampilkan standar deviasi, \"numeric_only=True\" digunakan karena terdapat peringatan  \"FutureWarning: Dropping of nuisance columns in DataFrame reductions with 'numeric_only=None'. Untuk mengatasinya menggunakan parameter tambahan numeric_only."
   ]
  },
  {
   "cell_type": "code",
   "execution_count": 6,
   "id": "7d6b7196",
   "metadata": {},
   "outputs": [
    {
     "name": "stdout",
     "output_type": "stream",
     "text": [
      "carat       0.474011\n",
      "depth       1.432621\n",
      "table       2.234491\n",
      "price    3989.439738\n",
      "'x'         1.121761\n",
      "'y'         1.142135\n",
      "'z'         0.705699\n",
      "dtype: float64\n"
     ]
    }
   ],
   "source": [
    "std_values = df.std(numeric_only=True)\n",
    "print(std_values)"
   ]
  },
  {
   "cell_type": "markdown",
   "id": "4f5fd3cd",
   "metadata": {},
   "source": [
    "Menampilkan nilai minimum dari atribut angka."
   ]
  },
  {
   "cell_type": "code",
   "execution_count": 7,
   "id": "54445f1d",
   "metadata": {},
   "outputs": [
    {
     "name": "stdout",
     "output_type": "stream",
     "text": [
      "carat          0.2\n",
      "cut        b'Fair'\n",
      "color         b'D'\n",
      "clarity      b'I1'\n",
      "depth         43.0\n",
      "table         43.0\n",
      "price        326.0\n",
      "'x'            0.0\n",
      "'y'            0.0\n",
      "'z'            0.0\n",
      "dtype: object\n"
     ]
    }
   ],
   "source": [
    "min_values = df.min()\n",
    "print(min_values)"
   ]
  },
  {
   "cell_type": "markdown",
   "id": "13484776",
   "metadata": {},
   "source": [
    "Menampilkan nilai maksimum atribut angka."
   ]
  },
  {
   "cell_type": "code",
   "execution_count": 8,
   "id": "0fe71aff",
   "metadata": {},
   "outputs": [
    {
     "name": "stdout",
     "output_type": "stream",
     "text": [
      "carat              5.01\n",
      "cut        b'Very Good'\n",
      "color              b'J'\n",
      "clarity         b'VVS2'\n",
      "depth              79.0\n",
      "table              95.0\n",
      "price           18823.0\n",
      "'x'               10.74\n",
      "'y'                58.9\n",
      "'z'                31.8\n",
      "dtype: object\n"
     ]
    }
   ],
   "source": [
    "max_values = df.max()\n",
    "print(max_values)"
   ]
  },
  {
   "cell_type": "markdown",
   "id": "ea4490e0",
   "metadata": {},
   "source": [
    "Menampilkan Q1, Q2 dan Q3 dalam atribut angka/numerik pada seluruh kolom."
   ]
  },
  {
   "cell_type": "code",
   "execution_count": 9,
   "id": "645321e7",
   "metadata": {},
   "outputs": [
    {
     "name": "stdout",
     "output_type": "stream",
     "text": [
      "Q1:\n",
      "carat      0.40\n",
      "depth     61.00\n",
      "table     56.00\n",
      "price    950.00\n",
      "'x'        4.71\n",
      "'y'        4.72\n",
      "'z'        2.91\n",
      "Name: 0.25, dtype: float64\n",
      "\n",
      "Median (Q2):\n",
      "carat       0.70\n",
      "depth      61.80\n",
      "table      57.00\n",
      "price    2401.00\n",
      "'x'         5.70\n",
      "'y'         5.71\n",
      "'z'         3.53\n",
      "dtype: float64\n",
      "\n",
      "Q3:\n",
      "carat       1.04\n",
      "depth      62.50\n",
      "table      59.00\n",
      "price    5324.25\n",
      "'x'         6.54\n",
      "'y'         6.54\n",
      "'z'         4.04\n",
      "Name: 0.75, dtype: float64\n"
     ]
    }
   ],
   "source": [
    "q1_values = df.quantile(0.25)\n",
    "median_values = df.median(numeric_only=True)\n",
    "q3_values = df.quantile(0.75)\n",
    "\n",
    "print(\"Q1:\")\n",
    "print(q1_values)\n",
    "print(\"\\nMedian (Q2):\")\n",
    "print(median_values)\n",
    "print(\"\\nQ3:\")\n",
    "print(q3_values)"
   ]
  },
  {
   "cell_type": "markdown",
   "id": "07cd0f0a",
   "metadata": {},
   "source": [
    "Tampilkan 10 record pertama dari dataset dengan attribute bertipe angka."
   ]
  },
  {
   "cell_type": "code",
   "execution_count": 10,
   "id": "4d7395fd",
   "metadata": {},
   "outputs": [
    {
     "name": "stdout",
     "output_type": "stream",
     "text": [
      "   carat  depth  table  price   'x'   'y'   'z'\n",
      "0   0.23   61.5   55.0  326.0  3.95  3.98  2.43\n",
      "1   0.21   59.8   61.0  326.0  3.89  3.84  2.31\n",
      "2   0.23   56.9   65.0  327.0  4.05  4.07  2.31\n",
      "3   0.29   62.4   58.0  334.0  4.20  4.23  2.63\n",
      "4   0.31   63.3   58.0  335.0  4.34  4.35  2.75\n",
      "5   0.24   62.8   57.0  336.0  3.94  3.96  2.48\n",
      "6   0.24   62.3   57.0  336.0  3.95  3.98  2.47\n",
      "7   0.26   61.9   55.0  337.0  4.07  4.11  2.53\n",
      "8   0.22   65.1   61.0  337.0  3.87  3.78  2.49\n",
      "9   0.23   59.4   61.0  338.0  4.00  4.05  2.39\n"
     ]
    }
   ],
   "source": [
    "# Memilih kolom-kolom dengan tipe data angka/numerik\n",
    "numeric_columns = df.select_dtypes(include=['number'])\n",
    "\n",
    "# Menampilkan 10 rekaman pertama dari kolom-kolom angka/numerik\n",
    "first_10_records = numeric_columns.head(10)\n",
    "\n",
    "# Menampilkan hasil\n",
    "print(first_10_records)"
   ]
  },
  {
   "cell_type": "markdown",
   "id": "752a6a79",
   "metadata": {},
   "source": [
    "Tampilkan informasi jumlah record, jumlah attribute, nama attribute, jumlah attribute dengan tipe angka. Masukkan informasi tersebut dalam dictionary dengan key sesuai nama informasinya. Tampilkan isi dari dictionary tersebut sebagus mungkin."
   ]
  },
  {
   "cell_type": "code",
   "execution_count": 11,
   "id": "b06d0c0e",
   "metadata": {},
   "outputs": [
    {
     "name": "stdout",
     "output_type": "stream",
     "text": [
      "Jumlah Record: 53940\n",
      "Jumlah Atribut: 10\n",
      "Nama Atribut: ['carat', 'cut', 'color', 'clarity', 'depth', 'table', 'price', \"'x'\", \"'y'\", \"'z'\"]\n",
      "Jumlah Atribut Numerik: 7\n"
     ]
    }
   ],
   "source": [
    "# Membaca dataset ke dalam DataFrame dengan blackfash ganda.\n",
    "df = pd.read_csv(r\"C:\\Users\\ACER-GK\\Documents\\venv_A1-22\\Maya_005\\diamonds.csv\")  # Ganti dengan path dataset yang sesuai\n",
    "\n",
    "# Menghitung jumlah rekaman (baris) dan jumlah atribut (kolom)\n",
    "num_records, num_attributes = df.shape\n",
    "\n",
    "# Mendapatkan daftar nama atribut\n",
    "attribute_names = df.columns.tolist()\n",
    "\n",
    "# Menghitung jumlah atribut dengan tipe angka (numerik)\n",
    "num_numeric_attributes = len(df.select_dtypes(include=['number']).columns)\n",
    "\n",
    "# Membuat dictionary dengan informasi yang diperlukan\n",
    "info_dict = {\n",
    "    \"Jumlah Record\": num_records,\n",
    "    \"Jumlah Atribut\": num_attributes,\n",
    "    \"Nama Atribut\": attribute_names,\n",
    "    \"Jumlah Atribut Numerik\": num_numeric_attributes\n",
    "}\n",
    "\n",
    "# Menampilkan isi dari dictionary dengan format yang baik\n",
    "for key, value in info_dict.items():\n",
    "    print(f\"{key}: {value}\")"
   ]
  },
  {
   "cell_type": "markdown",
   "id": "11421801",
   "metadata": {},
   "source": [
    "Tampilkan nilai dataset pada baris dimulai dengan 3 digit NIM akhir(Nim : 005) hingga data terakhir dan kolom ke 4 hingga kolom terakhir menggunakan ke 2 metode slice."
   ]
  },
  {
   "cell_type": "code",
   "execution_count": 12,
   "id": "b36b144a",
   "metadata": {},
   "outputs": [
    {
     "name": "stdout",
     "output_type": "stream",
     "text": [
      "       clarity  depth  table   price   'x'   'y'   'z'\n",
      "4       b'SI2'   63.3   58.0   335.0  4.34  4.35  2.75\n",
      "5      b'VVS2'   62.8   57.0   336.0  3.94  3.96  2.48\n",
      "6      b'VVS1'   62.3   57.0   336.0  3.95  3.98  2.47\n",
      "7       b'SI1'   61.9   55.0   337.0  4.07  4.11  2.53\n",
      "8       b'VS2'   65.1   61.0   337.0  3.87  3.78  2.49\n",
      "...        ...    ...    ...     ...   ...   ...   ...\n",
      "53935   b'SI1'   60.8   57.0  2757.0  5.75  5.76  3.50\n",
      "53936   b'SI1'   63.1   55.0  2757.0  5.69  5.75  3.61\n",
      "53937   b'SI1'   62.8   60.0  2757.0  5.66  5.68  3.56\n",
      "53938   b'SI2'   61.0   58.0  2757.0  6.15  6.12  3.74\n",
      "53939   b'SI2'   62.2   55.0  2757.0  5.83  5.87  3.64\n",
      "\n",
      "[53936 rows x 7 columns]\n"
     ]
    }
   ],
   "source": [
    "# Metode Slice menggunakan .iloc[] untuk baris \"dari baris ke 3 angka terakhir nim yaitu 005\" dan kolom \n",
    "subset_df1 = df.iloc[4:, 3:]\n",
    "\n",
    "# Menampilkan hasil\n",
    "print(subset_df1)"
   ]
  },
  {
   "cell_type": "code",
   "execution_count": 13,
   "id": "51b9b888",
   "metadata": {},
   "outputs": [
    {
     "name": "stdout",
     "output_type": "stream",
     "text": [
      "       clarity  depth  table   price   'x'   'y'   'z'\n",
      "4       b'SI2'   63.3   58.0   335.0  4.34  4.35  2.75\n",
      "5      b'VVS2'   62.8   57.0   336.0  3.94  3.96  2.48\n",
      "6      b'VVS1'   62.3   57.0   336.0  3.95  3.98  2.47\n",
      "7       b'SI1'   61.9   55.0   337.0  4.07  4.11  2.53\n",
      "8       b'VS2'   65.1   61.0   337.0  3.87  3.78  2.49\n",
      "...        ...    ...    ...     ...   ...   ...   ...\n",
      "53935   b'SI1'   60.8   57.0  2757.0  5.75  5.76  3.50\n",
      "53936   b'SI1'   63.1   55.0  2757.0  5.69  5.75  3.61\n",
      "53937   b'SI1'   62.8   60.0  2757.0  5.66  5.68  3.56\n",
      "53938   b'SI2'   61.0   58.0  2757.0  6.15  6.12  3.74\n",
      "53939   b'SI2'   62.2   55.0  2757.0  5.83  5.87  3.64\n",
      "\n",
      "[53936 rows x 7 columns]\n"
     ]
    }
   ],
   "source": [
    "# Metode Slice menggunakan .loc[] untuk baris dan kolom\n",
    "subset_df2 = df.loc[4:, df.columns[3]:]\n",
    "\n",
    "# Menampilkan hasil\n",
    "print(subset_df2)"
   ]
  },
  {
   "cell_type": "markdown",
   "id": "911f1e5b",
   "metadata": {},
   "source": [
    "Tampilkan jumlah nilai dari semua attribute yang bernilai object."
   ]
  },
  {
   "cell_type": "code",
   "execution_count": 14,
   "id": "d5d1598d",
   "metadata": {},
   "outputs": [
    {
     "name": "stdout",
     "output_type": "stream",
     "text": [
      "cut: 5 nilai unik\n",
      "color: 7 nilai unik\n",
      "clarity: 8 nilai unik\n"
     ]
    }
   ],
   "source": [
    "# Memilih kolom-kolom dengan tipe data objek (string)\n",
    "object_columns = df.select_dtypes(include=['object'])\n",
    "\n",
    "# Menghitung jumlah nilai unik dalam setiap kolom objek\n",
    "object_column_value_counts = {}\n",
    "for column in object_columns.columns:\n",
    "    value_counts = object_columns[column].value_counts()\n",
    "    object_column_value_counts[column] = len(value_counts)\n",
    "\n",
    "# Menampilkan jumlah nilai unik dalam setiap kolom objek\n",
    "for column, count in object_column_value_counts.items():\n",
    "    print(f\"{column}: {count} nilai unik\")\n"
   ]
  }
 ],
 "metadata": {
  "kernelspec": {
   "display_name": "Python 3",
   "language": "python",
   "name": "python3"
  },
  "language_info": {
   "codemirror_mode": {
    "name": "ipython",
    "version": 3
   },
   "file_extension": ".py",
   "mimetype": "text/x-python",
   "name": "python",
   "nbconvert_exporter": "python",
   "pygments_lexer": "ipython3",
   "version": "3.10.7"
  }
 },
 "nbformat": 4,
 "nbformat_minor": 5
}
